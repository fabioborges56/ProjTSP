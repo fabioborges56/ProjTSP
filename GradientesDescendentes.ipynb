{
  "nbformat": 4,
  "nbformat_minor": 0,
  "metadata": {
    "colab": {
      "name": "GradientesDescendentes.ipynb",
      "provenance": [],
      "authorship_tag": "ABX9TyN94I2xGWmRIvoLmiNCUwHL",
      "include_colab_link": true
    },
    "kernelspec": {
      "name": "python3",
      "display_name": "Python 3"
    },
    "language_info": {
      "name": "python"
    }
  },
  "cells": [
    {
      "cell_type": "markdown",
      "metadata": {
        "id": "view-in-github",
        "colab_type": "text"
      },
      "source": [
        "<a href=\"https://colab.research.google.com/github/fabioborges56/ProjTSP/blob/main/GradientesDescendentes.ipynb\" target=\"_parent\"><img src=\"https://colab.research.google.com/assets/colab-badge.svg\" alt=\"Open In Colab\"/></a>"
      ]
    },
    {
      "cell_type": "code",
      "execution_count": 35,
      "metadata": {
        "id": "qDQHKV5Ju9HE"
      },
      "outputs": [],
      "source": [
        "import numpy as np\n",
        "X = 2 * np.random.rand(100, 1)\n",
        "y = 4 + 3 * X + np.random.randn(100, 1)\n",
        "X_b = np.c_[np.ones((100, 1)), X]  # adiciona x0 = 1 a cada instância"
      ]
    },
    {
      "cell_type": "code",
      "source": [
        "theta_best = np.random.rand(100, 1)\n",
        "theta_best = np.linalg.inv(X_b.T.dot(X_b)).dot(X_b.T).dot(y)\n",
        "theta_best"
      ],
      "metadata": {
        "colab": {
          "base_uri": "https://localhost:8080/"
        },
        "id": "yxLC81c0zyRa",
        "outputId": "6ff0cbaf-41dc-47fa-9402-269e02aea3c4"
      },
      "execution_count": 25,
      "outputs": [
        {
          "output_type": "execute_result",
          "data": {
            "text/plain": [
              "array([[3.88198841],\n",
              "       [2.98591405]])"
            ]
          },
          "metadata": {},
          "execution_count": 25
        }
      ]
    },
    {
      "cell_type": "markdown",
      "source": [
        "# Usando sklearn "
      ],
      "metadata": {
        "id": "OLRnNJJW5gku"
      }
    },
    {
      "cell_type": "code",
      "source": [
        "from sklearn.linear_model import LinearRegression\n",
        "lin_reg = LinearRegression()\n",
        "lin_reg.fit(X, y)\n",
        "lin_reg.intercept_, lin_reg.coef_"
      ],
      "metadata": {
        "colab": {
          "base_uri": "https://localhost:8080/"
        },
        "id": "PrXwg64i441Y",
        "outputId": "156f4025-e559-4382-cbf4-924a8373a6a2"
      },
      "execution_count": 36,
      "outputs": [
        {
          "output_type": "execute_result",
          "data": {
            "text/plain": [
              "(array([4.13182771]), array([[2.91670634]]))"
            ]
          },
          "metadata": {},
          "execution_count": 36
        }
      ]
    },
    {
      "cell_type": "code",
      "source": [
        "X_new = np.array([[0], [2]])\n",
        "lin_reg.predict(X_new)"
      ],
      "metadata": {
        "colab": {
          "base_uri": "https://localhost:8080/"
        },
        "id": "nyGdVLWSBtFE",
        "outputId": "ff8cff1b-8adb-480d-853b-71c0bc801466"
      },
      "execution_count": 39,
      "outputs": [
        {
          "output_type": "execute_result",
          "data": {
            "text/plain": [
              "array([[4.13182771],\n",
              "       [9.96524038]])"
            ]
          },
          "metadata": {},
          "execution_count": 39
        }
      ]
    },
    {
      "cell_type": "markdown",
      "source": [
        "# GRADIENTE DESCENDENTE EM LOTE pag. 119"
      ],
      "metadata": {
        "id": "hYNFrxUwDNrH"
      }
    },
    {
      "cell_type": "code",
      "source": [
        "eta = 0.5 # taxa de aprendizagem\n",
        "n_iteractions = 1000\n",
        "m = 100\n",
        "\n",
        "theta = np.random.randn(2, 1)  # inicialização aleatória"
      ],
      "metadata": {
        "id": "FB2kcBKODm7B"
      },
      "execution_count": 47,
      "outputs": []
    },
    {
      "cell_type": "code",
      "source": [
        "from numpy.random.mtrand import random_integers\n",
        "eta = 0.1\n",
        "for iteraction in range(n_iteractions):\n",
        "  gradients = 2/m * X_b.T.dot(X_b.dot(theta) - y)\n",
        "  theta = theta - eta * gradients\n",
        "print('--------------------------------------------------------------------------------\\n')\n",
        "print(' --  PREVISÃO eta = 0.1 --\\n')\n",
        "theta"
      ],
      "metadata": {
        "colab": {
          "base_uri": "https://localhost:8080/"
        },
        "id": "-Gf5hVvZELBB",
        "outputId": "4b5cb0e2-9b7e-4304-8054-e8c2010492c9"
      },
      "execution_count": 50,
      "outputs": [
        {
          "output_type": "stream",
          "name": "stdout",
          "text": [
            "--------------------------------------------------------------------------------\n",
            "\n",
            " --  PREVISÃO eta = 0.1 --\n",
            "\n"
          ]
        },
        {
          "output_type": "execute_result",
          "data": {
            "text/plain": [
              "array([[-1.16978645e+19],\n",
              "       [ 9.99391370e+18]])"
            ]
          },
          "metadata": {},
          "execution_count": 50
        }
      ]
    },
    {
      "cell_type": "code",
      "source": [
        ""
      ],
      "metadata": {
        "id": "xyzov5-LQwq_"
      },
      "execution_count": null,
      "outputs": []
    },
    {
      "cell_type": "code",
      "source": [
        "eta = 0.02\n",
        "for iteraction in range(n_iteractions):\n",
        "  gradients = 2/m * X_b.T.dot(X_b.dot(theta) - y)\n",
        "  theta = theta - eta * gradients\n",
        "print('--------------------------------------------------------------------------------\\n')\n",
        "print(' --  PREVISÃO eta = 0.02 --\\n')\n",
        "theta"
      ],
      "metadata": {
        "colab": {
          "base_uri": "https://localhost:8080/"
        },
        "id": "2Tu-nxTiHfwN",
        "outputId": "eb686ae8-038e-4184-b607-54ce3c39bb04"
      },
      "execution_count": 61,
      "outputs": [
        {
          "output_type": "stream",
          "name": "stdout",
          "text": [
            "--------------------------------------------------------------------------------\n",
            "\n",
            " --  PREVISÃO eta = 0.02 --\n",
            "\n"
          ]
        },
        {
          "output_type": "execute_result",
          "data": {
            "text/plain": [
              "array([[ 1.89966389e+130],\n",
              "       [-1.62295237e+130]])"
            ]
          },
          "metadata": {},
          "execution_count": 61
        }
      ]
    },
    {
      "cell_type": "code",
      "source": [
        "eta = 0.5\n",
        "for iteraction in range(n_iteractions):\n",
        "  gradients = 2/m * X_b.T.dot(X_b.dot(theta) - y)\n",
        "  theta = theta - eta * gradients\n",
        "print('--------------------------------------------------------------------------------\\n')\n",
        "print(' --  PREVISÃO eta = 0.5 --\\n')\n",
        "theta"
      ],
      "metadata": {
        "colab": {
          "base_uri": "https://localhost:8080/"
        },
        "id": "NyHw5_AQFNOO",
        "outputId": "c938d504-9a6a-488f-c925-c7af70f01444"
      },
      "execution_count": 67,
      "outputs": [
        {
          "output_type": "stream",
          "name": "stdout",
          "text": [
            "--------------------------------------------------------------------------------\n",
            "\n",
            " --  PREVISÃO eta = 0.5 --\n",
            "\n"
          ]
        },
        {
          "output_type": "execute_result",
          "data": {
            "text/plain": [
              "array([[nan],\n",
              "       [nan]])"
            ]
          },
          "metadata": {},
          "execution_count": 67
        }
      ]
    }
  ]
}